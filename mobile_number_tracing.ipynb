{
  "nbformat": 4,
  "nbformat_minor": 0,
  "metadata": {
    "colab": {
      "provenance": []
    },
    "kernelspec": {
      "name": "python3",
      "display_name": "Python 3"
    },
    "language_info": {
      "name": "python"
    }
  },
  "cells": [
    {
      "cell_type": "code",
      "execution_count": 13,
      "metadata": {
        "colab": {
          "base_uri": "https://localhost:8080/"
        },
        "id": "dBnEC0BXD7L2",
        "outputId": "3aa8c2c2-a08e-466d-ea42-081e857ae466"
      },
      "outputs": [
        {
          "output_type": "stream",
          "name": "stdout",
          "text": [
            "Requirement already satisfied: phonenumbers in /usr/local/lib/python3.10/dist-packages (8.13.19)\n",
            "enter number with +__: +913848594844\n",
            "Country Code: 91 National Number: 3848594844\n",
            "   \n",
            "\n",
            "('Asia/Calcutta',)\n"
          ]
        }
      ],
      "source": [
        "!pip install phonenumbers\n",
        "import phonenumbers\n",
        "from phonenumbers import timezone,geocoder,carrier\n",
        "number=input(\"enter number with +__: \")\n",
        "phone=phonenumbers.parse(number,)\n",
        "time=timezone.time_zones_for_number(phone)\n",
        "car=carrier.name_for_number(phone,\"en\")\n",
        "\n",
        "\n",
        "print(phone)\n",
        "print(\"   \")\n",
        "print(car)\n",
        "print(time)\n"
      ]
    },
    {
      "cell_type": "code",
      "source": [],
      "metadata": {
        "id": "wg2hormbD9aq"
      },
      "execution_count": 13,
      "outputs": []
    }
  ]
}